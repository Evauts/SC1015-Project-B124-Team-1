{
 "cells": [
  {
   "cell_type": "markdown",
   "id": "891e2e40",
   "metadata": {},
   "source": [
    "#### Imports Libraries\n",
    "***"
   ]
  },
  {
   "cell_type": "code",
   "execution_count": 5,
   "id": "25da8b1f",
   "metadata": {},
   "outputs": [],
   "source": [
    "#-----Standard Import\n",
    "import numpy as np\n",
    "import pandas as pd\n",
    "\n",
    "#-----For Plotting Graphs\n",
    "import seaborn as sb\n",
    "import matplotlib.pyplot as plt \n",
    "import plotly.express as px\n",
    "\n",
    "#-----Sklearn modules etc for datas\n",
    "from sklearn.metrics import confusion_matrix,accuracy_score,precision_score,f1_score,recall_score\n",
    "from sklearn.metrics import classification_report\n",
    "from sklearn.model_selection import GridSearchCV\n",
    "from sklearn.metrics import roc_curve, auc\n",
    "from sklearn.ensemble import GradientBoostingClassifier\n",
    "from sklearn.datasets import make_classification"
   ]
  },
  {
   "cell_type": "markdown",
   "id": "5f70b8fb",
   "metadata": {},
   "source": [
    "## Checking Variables and Comparing Models\n",
    "***\n",
    " > By comparing the coefficient and the classification report for each matrix we would like to evaluate each models through the following steps:\n",
    " > - Step 1: We would train the model with the data set train_resampled_data with the model chosen, tt\n",
    " > - Step 2: Plot out the neccessary graphs to visualise the correlation/the outcome of putting trained against test data\n",
    " > - Step 3: Evaluate the relationship between variables\n",
    " > - Step 4: Evaluate the model's performance\n",
    " > - Step 5: Compare the models' performances and relationship between the predictors and response variable\n",
    " \n",
    " > We have chosen to focus on 4 variables age, bmi, HbA1c , blood_glucose_level as they have the highest correlation while we choose to ignore hypertension and heart disease due to its minute positive data and its close to 0 correelation. We also chose to ignore the smoking history as there no information makes up about 36.8%."
   ]
  },
  {
   "cell_type": "markdown",
   "id": "e57764a6",
   "metadata": {},
   "source": [
    "#### Defining the performance metrics:\n",
    "    \n",
    "   > - Precision: \n",
    "        A measure of the model's ability to correctly predict positive cases out of all instances predicted as positive. It is calculated as the proportion of true positives among the predicted positives (true positive + false positive).\n",
    "    \n",
    "   > - Recall:\n",
    "        A measure of the model's ability to correctly predict positive cases out of all actual positive instances. It is calculated as the proportion of true positives among the actual positives (true positives + false negatives).\n",
    "    \n",
    "   > - F1-Score:\n",
    "        A harmonic mean of precision and recall, which gives a balance between the two metrics. It ranges between 0 and 1, with 1 indicating the best possible performance.\n",
    "        \n",
    "   > - Support:\n",
    "         Represents the number of instances or observations in the test set that belong to each class. It shows the number of true positives + false negative instances for each class.\n",
    "         \n",
    "   > - Accuracy: \n",
    "         A measure of the overall performance of the model in terms of correctly predicting both positive and negative cases. It is calculated as the proportion of correct predictions (true positives+true negatives) out of all predictions.\n",
    "     \n",
    "   >- Macro-average:\n",
    "         A useful metric when the class distribution is relatively balanced as it calculates the average of prevision, recall and F1-score for each class separately and then takes the average of those averages, giving each class equal importance, regardless of the number of instances in each class.\n",
    "     \n",
    "   >- Weighted-average:\n",
    "         A useful metric when the class distribution is imbalanced as it calculates teh average of precision, recall and F1-swcore for each class separately, but the average is weighted by the number of instances in each class, giving more importance to larger classes.\n",
    "     \n",
    " \n",
    "     \n",
    "   "
   ]
  },
  {
   "cell_type": "markdown",
   "id": "9621ba55",
   "metadata": {},
   "source": [
    "### Fine-Tuning"
   ]
  },
  {
   "cell_type": "markdown",
   "id": "c5609f6f",
   "metadata": {},
   "source": [
    "We chose GridSearchCV to fine-tune our machine learning models and incorportated it into all of them in a similar manner. This tool involved selecting a range of hyperparameters to test and coming up with the best combination of hyperparameters which is not immediately apparent to us. By systematically testing different combinations of hyperparameters, GridSearchCV helps identify the optimal set of hyperparameters that maximizes the performance of the specific model and provide the most accurate information regarding the dataset."
   ]
  },
  {
   "cell_type": "markdown",
   "id": "fab28572",
   "metadata": {},
   "source": [
    "#### Read Datas From CSV\n",
    "***"
   ]
  },
  {
   "cell_type": "code",
   "execution_count": 6,
   "id": "d715374f",
   "metadata": {},
   "outputs": [],
   "source": [
    "train_resampled_data = pd.read_csv('train_resampled_data.csv')\n",
    "test_data = pd.read_csv('test_data.csv')\n"
   ]
  },
  {
   "cell_type": "code",
   "execution_count": 7,
   "id": "33858104",
   "metadata": {},
   "outputs": [],
   "source": [
    "predictors = ['HbA1c_level', 'blood_glucose_level', 'age', 'bmi']\n",
    "# Split the data into training and testing sets\n",
    "X_train = train_resampled_data[predictors]\n",
    "y_train = train_resampled_data['diabetes']           \n",
    "\n",
    "X_test = test_data[predictors]\n",
    "y_test =  test_data['diabetes']  "
   ]
  },
  {
   "cell_type": "markdown",
   "id": "162bd2f7",
   "metadata": {},
   "source": [
    "# Machine Learning Model 3: Gradient Boosting Classifier"
   ]
  },
  {
   "cell_type": "markdown",
   "id": "bb6bd00c",
   "metadata": {},
   "source": [
    "We chose Gradient Boosting Classifier as one of our models as it is able to handle complex relationships, high-dimensional data, imbalanced class distributions and provides interpretable results. We found this model relevant and useful in analysing this dataset."
   ]
  },
  {
   "cell_type": "code",
   "execution_count": 8,
   "id": "e5b82d05",
   "metadata": {},
   "outputs": [
    {
     "name": "stdout",
     "output_type": "stream",
     "text": [
      "Best hyperparameters:  {'learning_rate': 0.1, 'max_depth': 7, 'min_samples_leaf': 1, 'min_samples_split': 10, 'n_estimators': 150}\n",
      "Best accuracy:  0.9708758671253737\n"
     ]
    },
    {
     "data": {
      "image/png": "[encoded data removed]",
      "text/plain": [
       "<Figure size 640x480 with 2 Axes>"
      ]
     },
     "metadata": {},
     "output_type": "display_data"
    },
    {
     "name": "stdout",
     "output_type": "stream",
     "text": [
      "              precision    recall  f1-score   support\n",
      "\n",
      "    Diabetes       0.98      0.50      0.66       901\n",
      " No Diabetes       0.97      1.00      0.99     17177\n",
      "\n",
      "    accuracy                           0.97     18078\n",
      "   macro avg       0.98      0.75      0.82     18078\n",
      "weighted avg       0.97      0.97      0.97     18078\n",
      "\n",
      "Accuracy: 0.97\n",
      "Macro-average Precision: 0.978374818558142\n",
      "Macro-average Recall: 0.74837978307337\n",
      "Macro-average F1-score: 0.8235162611822568\n",
      " \n",
      "Weighted-average Precision: 0.9747003195262495\n",
      "Weighted-average Recall: 0.9744993915256113\n",
      "Weighted-average F1-score: 0.9704812411157798\n",
      " \n",
      "Predictor: HbA1c_level\n",
      "Precision: 0.9846067555777142\n",
      "Recall: 0.532787023454229\n",
      "F1-score: 0.69142988435322\n",
      "Support: 5930.699999999996\n",
      " \n",
      "Predictor: blood_glucose_level\n",
      "Precision: 0.9840405804730401\n",
      "Recall: 0.5457265694457345\n",
      "F1-score: 0.702089975203684\n",
      "Support: 150722.0\n",
      " \n",
      "Predictor: age\n",
      "Precision: 0.9786741494212557\n",
      "Recall: 0.49569187585496277\n",
      "F1-score: 0.6580737980400713\n",
      "Support: 56289.0\n",
      " \n",
      "Predictor: bmi\n",
      "Precision: 0.979105042572838\n",
      "Recall: 0.5010621976803802\n",
      "F1-score: 0.6628879643459219\n",
      "Support: 26431.04999999995\n",
      "                     Importance Score\n",
      "HbA1c_level                  0.697680\n",
      "blood_glucose_level          0.188053\n",
      "age                          0.098172\n",
      "bmi                          0.016094\n",
      "                     Importance Score  Absolute Score\n",
      "HbA1c_level                  0.697680        0.697680\n",
      "blood_glucose_level          0.188053        0.188053\n",
      "age                          0.098172        0.098172\n",
      "bmi                          0.016094        0.016094\n"
     ]
    },
    {
     "data": {
      "image/png": "[encoded data removed]",
      "text/plain": [
       "<Figure size 640x480 with 1 Axes>"
      ]
     },
     "metadata": {},
     "output_type": "display_data"
    },
    {
     "name": "stdout",
     "output_type": "stream",
     "text": [
      "AUC score: 0.9614614488814217\n"
     ]
    }
   ],
   "source": [
    "\n",
    "gb_clf = GradientBoostingClassifier(random_state=42)\n",
    "param_grid = {\n",
    "    'n_estimators': [50, 100, 150],\n",
    "    'learning_rate': [0.1, 0.05],\n",
    "    'max_depth': [3, 5, 7],\n",
    "    'min_samples_split': [2, 5, 10],\n",
    "    'min_samples_leaf': [1, 2, 4]\n",
    "}\n",
    "\n",
    "\n",
    "grid_search = GridSearchCV(gb_clf, param_grid=param_grid, cv=5, n_jobs=-1)\n",
    "\n",
    "# Train the GridSearchCV object on the training data\n",
    "grid_search.fit(X_train, y_train)\n",
    "\n",
    "# Print the best hyperparameters and corresponding accuracy score\n",
    "print(\"Best hyperparameters: \", grid_search.best_params_)\n",
    "print(\"Best accuracy: \", grid_search.best_score_)\n",
    "gb_clf.fit(X_train, y_train)\n",
    "\n",
    "# Make predictions on the testing set\n",
    "y_pred = gb_clf.predict(X_test)\n",
    "\n",
    "# Calculate the confusion matrix\n",
    "cm = confusion_matrix(y_test, y_pred)\n",
    "\n",
    "# Plot the confusion matrix\n",
    "sb.heatmap(cm, annot=True, cmap=plt.cm.Blues)\n",
    "plt.title(\"Confusion Matrix\")\n",
    "plt.xlabel(\"Predicted Labels\")\n",
    "plt.ylabel(\"True Labels\")\n",
    "plt.show()\n",
    "\n",
    "# Display the classification report\n",
    "report = classification_report(y_test, y_pred, labels=[1, 0], target_names=['Diabetes', 'No Diabetes'], zero_division=1)\n",
    "print(report)\n",
    "\n",
    "# Evaluate the accuracy of the classifier\n",
    "accuracy = accuracy_score(y_test, y_pred)\n",
    "print('Accuracy: {:.2f}'.format(accuracy))\n",
    "\n",
    "# Calculate the macro-average precision, recall, and F1-score\n",
    "macro_precision = precision_score(y_test, y_pred, average='macro')\n",
    "macro_recall = recall_score(y_test, y_pred, average='macro')\n",
    "macro_f1 = f1_score(y_test, y_pred, average='macro')\n",
    "print(\"Macro-average Precision:\", macro_precision)\n",
    "print(\"Macro-average Recall:\", macro_recall)\n",
    "print(\"Macro-average F1-score:\", macro_f1)\n",
    "\n",
    "# Calculate the weighted-average precision, recall, and F1-score\n",
    "weighted_precision = precision_score(y_test, y_pred, average='weighted')\n",
    "weighted_recall = recall_score(y_test, y_pred, average='weighted')\n",
    "weighted_f1 = f1_score(y_test, y_pred, average='weighted')\n",
    "print (\" \")\n",
    "print(\"Weighted-average Precision:\", weighted_precision)\n",
    "print(\"Weighted-average Recall:\", weighted_recall)\n",
    "print(\"Weighted-average F1-score:\", weighted_f1)\n",
    "\n",
    "# Calculate and print precision, recall, F1-score, and support for each predictor\n",
    "for predictor in predictors:\n",
    "    report = classification_report(y_test, y_pred, labels=[1, 0], target_names=['Diabetes', 'No Diabetes'], zero_division=1, \n",
    "                                    sample_weight=X_test[predictor], output_dict=True)\n",
    "    precision = report['Diabetes']['precision']\n",
    "    recall = report['Diabetes']['recall']\n",
    "    f1 = report['Diabetes']['f1-score']\n",
    "    support = report['Diabetes']['support']\n",
    "    print(\" \")\n",
    "    print(\"Predictor:\", predictor)\n",
    "    print(\"Precision:\", precision)\n",
    "    print(\"Recall:\", recall)\n",
    "    print(\"F1-score:\", f1)\n",
    "    print(\"Support:\", support)\n",
    "    \n",
    "# Compute the feature importance scores\n",
    "importance_scores = pd.DataFrame(gb_clf.feature_importances_, index=predictors, columns=['Importance Score'])\n",
    "\n",
    "# Display the importance scores\n",
    "print(importance_scores)\n",
    "\n",
    "# Rank the features by their importance score\n",
    "importance_scores['Absolute Score'] = abs(importance_scores['Importance Score'])\n",
    "importance_scores_ranked = importance_scores.sort_values('Absolute Score', ascending=False)\n",
    "\n",
    "# Display the ranked features\n",
    "print(importance_scores_ranked)\n",
    "\n",
    "# Make predictions on the testing set\n",
    "y_scores = gb_clf.predict_proba(X_test)[:,1]\n",
    "\n",
    "# Compute ROC curve and AUC score\n",
    "fpr, tpr, thresholds = roc_curve(y_test, y_scores)\n",
    "roc_auc = auc(fpr, tpr)\n",
    "\n",
    "# Plot the ROC curve\n",
    "plt.figure()\n",
    "plt.plot(fpr, tpr, color='darkorange', lw=2, label='ROC curve (area = %0.2f)' % roc_auc)\n",
    "plt.plot([0, 1], [0, 1], color='navy', lw=2, linestyle='--')\n",
    "plt.xlim([0.0, 1.0])\n",
    "plt.ylim([0.0, 1.05])\n",
    "plt.xlabel('False Positive Rate')\n",
    "plt.ylabel('True Positive Rate')\n",
    "plt.title('Receiver operating characteristic')\n",
    "plt.legend(loc=\"lower right\")\n",
    "plt.show()\n",
    "print(\"AUC score:\", roc_auc)"
   ]
  },
  {
   "cell_type": "markdown",
   "id": "c0416090",
   "metadata": {},
   "source": [
    "### Evaluating the relationship between the predictors and response variable"
   ]
  },
  {
   "cell_type": "markdown",
   "id": "f6556586",
   "metadata": {},
   "source": [
    " -  Comparing the importance scores of the predictors, we can see that HbA1c_level is the most important predictor in predicting the outcome of whether or not one may get diabetes with the higest score of 0.698, followed by blood_glucose_level with an importance score of 0.188, age with a score of 0.098 and finally bmi with an importance score of 0.016. The absolute scores provide the same information as the importance scores but with all scores normalized to sum up to 1.0."
   ]
  },
  {
   "cell_type": "markdown",
   "id": "08d50d61",
   "metadata": {},
   "source": [
    "### Evaluating performance of Gradient Boosting Classifier model"
   ]
  },
  {
   "cell_type": "markdown",
   "id": "6f97f154",
   "metadata": {},
   "source": [
    "   - Firstly, the model achieved and overall accuracy of 0.97 indicating that it accurately predicted the outcome for 97% of the samples, a very high percentage in terms of accuracy of the model.\n",
    "\n",
    "   - For the \"Diabetes\" class, the model achieved a precision of 0.98 telling us that it correctly predicted 98% cases of this class. Recall was 0.5 and F1-score was 0.66 showing that this model prodcues results that have higher values in terms of the accuracy of predicting the outcome cases. Additionally, the weighted-average precision score is relatively high as well at a value of 0.97. Overall, the model performed well on this dataset, achieving high scores in the difference performance metrics.\n",
    "    \n",
    "   - Since we incorportated GridSearchCV for finetuning the model, the model became more robut and interpretable as the accuracy and generalizability increased. The hyperparameters worked with by the tool included the number of trees in the ensemble, the learning rate, the maximum depth of the trees among many others.\n",
    "    "
   ]
  },
  {
   "cell_type": "markdown",
   "id": "3b4ede88",
   "metadata": {},
   "source": [
    "# Comparing between models\n",
    "***"
   ]
  },
  {
   "cell_type": "markdown",
   "id": "eb4ae048",
   "metadata": {},
   "source": [
    "- We used ROC graphs to compare the performance of the models. To compare ROC graphs, we use the Area Under the Curve (AUC) metric which is a measure of the overall performance of the model. A higher AUC value indicates better overall performance of a model in terms of distinguishing between two classes. Since model 3 has the highest AUC value of 0.961, we can conclude that the gradient boosting classifier model has the best overall performance among the three models.In addition to the AUC value, comparing the shape of the ROC curves shows how the last cutve is the closest to the top left corner indicating best performance once again as it has the highest true positive rate for a low false positive rate. \n",
    "\n",
    "- In conjunction with the other metrics, especially the weighted-average score, we see from the classification reports that model 3 is the best at training the dataset as it has the highest score values for all.\n",
    "\n",
    "- In conclusion, Gradient Boosting Classifier is the best model to evaluate our dataset and moving forward, we would use this model to evaluate the relationship between the predictors and outcome variable."
   ]
  },
  {
   "cell_type": "markdown",
   "id": "0cd309a8",
   "metadata": {},
   "source": [
    "# Therefore, from this Model we see that the top predictor is \"HbA1c_level\", addressing our problem definition."
   ]
  },
  {
   "cell_type": "code",
   "execution_count": null,
   "id": "ecbce16e",
   "metadata": {},
   "outputs": [],
   "source": []
  }
 ],
 "metadata": {
  "kernelspec": {
   "display_name": "Python 3 (ipykernel)",
   "language": "python",
   "name": "python3"
  },
  "language_info": {
   "codemirror_mode": {
    "name": "ipython",
    "version": 3
   },
   "file_extension": ".py",
   "mimetype": "text/x-python",
   "name": "python",
   "nbconvert_exporter": "python",
   "pygments_lexer": "ipython3",
   "version": "3.10.9"
  }
 },
 "nbformat": 4,
 "nbformat_minor": 5
}
